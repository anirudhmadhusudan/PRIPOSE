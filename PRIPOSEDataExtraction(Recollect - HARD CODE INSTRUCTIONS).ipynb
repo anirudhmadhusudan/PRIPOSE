{
 "cells": [
  {
   "cell_type": "code",
   "execution_count": 1,
   "metadata": {},
   "outputs": [],
   "source": [
    "import csv\n",
    "from gmplot import gmplot\n",
    "import json\n",
    "from pprint import pprint\n",
    "import urllib.request  as urllib2 \n",
    "import os\n",
    "import time\n",
    "import math\n",
    "import random\n",
    "\n",
    "key = \"4BGs4umzWE9Bg7fluGQR7gToO6Qlageu\"\n",
    "EARTH_POLAR_RADIUS_METER = 6356800\n",
    "EARTH_EQUATORIAL_RADIUS_METER = 6378100\n",
    "meterWidth = 1000\n",
    "count = 50\n",
    "\n",
    "def queryEventfulWithId(id):\n",
    "\turl = \"http://api.eventful.com/json/events/get?app_key=srG2DMrq4VpRxGvw&id=\"+id\n",
    "\tresponse = urllib2.urlopen(url).read()\n",
    "\trspJSON = json.loads(response)\n",
    "\treturn rspJSON\n",
    "    \n",
    "# Gets the metric length corresponding to the latitude, in degrees.\n",
    "def getLatitudeWidth(meterWidth):\n",
    "    return meterWidth/(2*math.pi*EARTH_POLAR_RADIUS_METER ) *360\n",
    "\n",
    "# Convert the metric width to the corresponding longitude width at latitude\n",
    "def getLongitudeWidthAtLatitue(latitude, meterWidth):\n",
    "    circleMeterLengthAtLatitude = 2 * math.pi * EARTH_EQUATORIAL_RADIUS_METER * math.cos(latitude / 180 * math.pi)\n",
    "    return meterWidth/circleMeterLengthAtLatitude * 360\n",
    "\n",
    "def degreesToRadians(degrees):\n",
    "\treturn degrees * math.pi / 180\n",
    "\n",
    "def distanceInMetersBetweenEarthCoordinates(lat1, lon1, lat2, lon2):\n",
    "\tearthRadiusKm = 6371\n",
    "\tdLat = degreesToRadians(lat2-lat1)\n",
    "\tdLon = degreesToRadians(lon2-lon1)\n",
    "\tlat1 = degreesToRadians(lat1)\n",
    "\tlat2 = degreesToRadians(lat2)\n",
    "\ta = math.sin(dLat/2) * math.sin(dLat/2) + math.sin(dLon/2) * math.sin(dLon/2) * math.cos(lat1) * math.cos(lat2) \n",
    "\tc = 2 * math.atan2(math.sqrt(a), math.sqrt(1-a)) \n",
    "\treturn earthRadiusKm * c * 1000\n",
    "\n",
    "\n",
    "# Generates a uniform distribution of count coordinates\n",
    "# Boundary defined by lat,lon of center corner and width in meters\n",
    "def generateCoordsWithinSquare(centerLat,centerLon,meterWidth,count,gmap,map_file):\n",
    "\n",
    "\t# Generate rectangle width in latitude and longitude coordinates\n",
    "\tdLat = getLatitudeWidth(meterWidth)\n",
    "\tdLon = getLongitudeWidthAtLatitue(centerLat,meterWidth)\n",
    "\n",
    "\t# Generate and show rectangle boundaries\n",
    "\tupperLeftLat = centerLat + (dLat / 2.0)\n",
    "\tupperLeftLon = centerLon - (dLon / 2.0)\n",
    "\n",
    "\tlowerRightLat = upperLeftLat - dLat\n",
    "\tlowerRightLon = upperLeftLon + dLon\n",
    "\n",
    "\tupperRightLat = upperLeftLat\n",
    "\tupperRightLon = lowerRightLon\n",
    "\n",
    "\tlowerLeftLat = lowerRightLat\n",
    "\tlowerLeftLon = upperLeftLon\n",
    "\n",
    "\tlatitudes = []\n",
    "\tlongitudes = []\n",
    "\tdistances_to_center = []\n",
    "\n",
    "\t# Generate count randomly distributed coordinates\n",
    "\tfor i in range(count):\n",
    "\t\tlat = random.uniform(upperLeftLat, lowerLeftLat)\n",
    "\t\tlon = random.uniform(upperLeftLon, upperRightLon)\n",
    "\t\tdist = distanceInMetersBetweenEarthCoordinates(centerLat,centerLon,lat,lon)\n",
    "\t\tlatitudes.append(lat)\n",
    "\t\tlongitudes.append(lon)\n",
    "\t\tdistances_to_center.append(dist)\n",
    "        \n",
    "\tboundaries = [[upperLeftLat, upperRightLat, lowerRightLat, lowerLeftLat, upperLeftLat], [upperLeftLon, upperRightLon, lowerRightLon, lowerLeftLon, upperLeftLon]]\n",
    "\n",
    "\treturn latitudes,longitudes,distances_to_center\n",
    "\n",
    "def getSpeedAtLoc(lat,lon):\n",
    "    try:\n",
    "        url = \"https://api.tomtom.com/traffic/services/4/flowSegmentData/absolute/10/json?key=\"+key+\"&point=\"+lat+\",\"+lon+\"&unit=MPH\"\n",
    "        response = urllib2.urlopen(url).read()\n",
    "        rspJSON = json.loads(response)\n",
    "        data = rspJSON['flowSegmentData']\n",
    "        freeFlowSpeed = data[\"freeFlowSpeed\"]\n",
    "        currentSpeed = data[\"currentSpeed\"]\n",
    "        confidence = data[\"confidence\"]\n",
    "        ratio = round(currentSpeed/float(freeFlowSpeed),2)\n",
    "\n",
    "        #TODO: put average of returned segments lat and lon here\n",
    "\n",
    "        return [str(lat),str(lon),str(freeFlowSpeed),str(currentSpeed),str(ratio),str(confidence),str(time.time())]\n",
    "    except urllib2.HTTPError as err:\n",
    "        print (\"not found\")\n",
    "\n",
    "\n",
    "\n",
    "import pandas as pd\n",
    "columns = ['event','title','venue','venue_lat','venue_lon','sample_lats','sample_lons','sample_dist']\n",
    "df = pd.DataFrame(columns=columns)\n",
    "\n"
   ]
  },
  {
   "cell_type": "markdown",
   "metadata": {},
   "source": [
    "# Put file name below"
   ]
  },
  {
   "cell_type": "code",
   "execution_count": 2,
   "metadata": {},
   "outputs": [],
   "source": [
    "\n",
    "df = pd.read_csv(\"March23_Pacific Design Center.csv\")"
   ]
  },
  {
   "cell_type": "markdown",
   "metadata": {},
   "source": [
    "### When you print the block, it prints a string of a list, copy just the list part, without the string quotes, in lats"
   ]
  },
  {
   "cell_type": "code",
   "execution_count": 3,
   "metadata": {},
   "outputs": [
    {
     "data": {
      "text/plain": [
       "'[34.08586061445081, 34.08028377269614, 34.07843903344922, 34.07857638331549, 34.084458722822134, 34.08113713902942, 34.08273460517626, 34.081485120423864, 34.083561357775345, 34.08481543606941, 34.08369075606531, 34.0829693202046, 34.080362434654326, 34.080952077066996, 34.08158013534032, 34.078828113209234, 34.077709781224584, 34.0862374993732, 34.08074077327185, 34.07857701940844, 34.082873859362465, 34.0786753272318, 34.082080807171344, 34.078039787277724, 34.08133782345184, 34.08077330177384, 34.0808288794761, 34.08179623032275, 34.08264228447595, 34.08030882938809, 34.07985699715273, 34.0791751423791, 34.07847429784208, 34.085030392807276, 34.079744716045006, 34.08652190175058, 34.080679823607916, 34.07890377284466, 34.079521804764, 34.08003391046039, 34.0834283791161, 34.08478084621665, 34.07796852593396, 34.0833833826394, 34.08007458295607, 34.08260817739367, 34.08159705270265, 34.079238696052364, 34.08548819393675, 34.086147518057054]'"
      ]
     },
     "execution_count": 3,
     "metadata": {},
     "output_type": "execute_result"
    }
   ],
   "source": [
    "df['sample_lats'][0]"
   ]
  },
  {
   "cell_type": "code",
   "execution_count": 4,
   "metadata": {},
   "outputs": [],
   "source": [
    "lats = [34.08586061445081, 34.08028377269614, 34.07843903344922, 34.07857638331549, 34.084458722822134, 34.08113713902942, 34.08273460517626, 34.081485120423864, 34.083561357775345, 34.08481543606941, 34.08369075606531, 34.0829693202046, 34.080362434654326, 34.080952077066996, 34.08158013534032, 34.078828113209234, 34.077709781224584, 34.0862374993732, 34.08074077327185, 34.07857701940844, 34.082873859362465, 34.0786753272318, 34.082080807171344, 34.078039787277724, 34.08133782345184, 34.08077330177384, 34.0808288794761, 34.08179623032275, 34.08264228447595, 34.08030882938809, 34.07985699715273, 34.0791751423791, 34.07847429784208, 34.085030392807276, 34.079744716045006, 34.08652190175058, 34.080679823607916, 34.07890377284466, 34.079521804764, 34.08003391046039, 34.0834283791161, 34.08478084621665, 34.07796852593396, 34.0833833826394, 34.08007458295607, 34.08260817739367, 34.08159705270265, 34.079238696052364, 34.08548819393675, 34.086147518057054]"
   ]
  },
  {
   "cell_type": "markdown",
   "metadata": {},
   "source": [
    "### When you print the block, it prints a string of a list, copy just the list part, without the string quotes, in lons"
   ]
  },
  {
   "cell_type": "code",
   "execution_count": 5,
   "metadata": {},
   "outputs": [
    {
     "data": {
      "text/plain": [
       "'[-118.3798088663451, -118.38324408331094, -118.37825909718558, -118.380796034588, -118.3849543701942, -118.38409629673254, -118.38504626407496, -118.38392955791946, -118.37904177113609, -118.37862235278986, -118.38150156328132, -118.38254720363219, -118.38426355893957, -118.38473311094548, -118.37718545283292, -118.38683501127548, -118.38067574956466, -118.38616973946333, -118.3837462200013, -118.38580338575497, -118.38544875297657, -118.38527540573952, -118.38565690891967, -118.38745303948774, -118.37711559590498, -118.37678607775503, -118.38447111374829, -118.38687800354114, -118.38366140325735, -118.37708429373431, -118.38034674344014, -118.38269226728544, -118.38426409761011, -118.38115768049109, -118.3823634461586, -118.38173422893168, -118.37817359371556, -118.38433460166644, -118.37806763711056, -118.38742481892825, -118.38024238977339, -118.37684277998589, -118.3822017743235, -118.37692482353911, -118.38504233811133, -118.38127112718722, -118.38174752413778, -118.38263021602229, -118.38051305240383, -118.38011543038105]'"
      ]
     },
     "execution_count": 5,
     "metadata": {},
     "output_type": "execute_result"
    }
   ],
   "source": [
    "df['sample_lons'][0]"
   ]
  },
  {
   "cell_type": "code",
   "execution_count": null,
   "metadata": {},
   "outputs": [],
   "source": [
    "lons = [-118.3798088663451, -118.38324408331094, -118.37825909718558, -118.380796034588, -118.3849543701942, -118.38409629673254, -118.38504626407496, -118.38392955791946, -118.37904177113609, -118.37862235278986, -118.38150156328132, -118.38254720363219, -118.38426355893957, -118.38473311094548, -118.37718545283292, -118.38683501127548, -118.38067574956466, -118.38616973946333, -118.3837462200013, -118.38580338575497, -118.38544875297657, -118.38527540573952, -118.38565690891967, -118.38745303948774, -118.37711559590498, -118.37678607775503, -118.38447111374829, -118.38687800354114, -118.38366140325735, -118.37708429373431, -118.38034674344014, -118.38269226728544, -118.38426409761011, -118.38115768049109, -118.3823634461586, -118.38173422893168, -118.37817359371556, -118.38433460166644, -118.37806763711056, -118.38742481892825, -118.38024238977339, -118.37684277998589, -118.3822017743235, -118.37692482353911, -118.38504233811133, -118.38127112718722, -118.38174752413778, -118.38263021602229, -118.38051305240383, -118.38011543038105]"
   ]
  },
  {
   "cell_type": "markdown",
   "metadata": {},
   "source": [
    "### When you print the block, it prints a string of a list, copy just the list part, without the string quotes, in sampledistance"
   ]
  },
  {
   "cell_type": "code",
   "execution_count": 6,
   "metadata": {},
   "outputs": [
    {
     "data": {
      "text/plain": [
       "'[457.68014299453085, 238.49061656217046, 543.2345470069916, 417.43404195022265, 368.35632279667755, 221.91925938962106, 283.0325737354771, 190.1670814560203, 316.1412807712879, 430.04021573058054, 174.7655466988815, 98.69577779451235, 287.74907399835706, 282.94956281485355, 452.6151121001456, 577.8406159992596, 513.362831731017, 589.3345924698399, 224.32636153809293, 529.8416583146127, 322.6471108382339, 490.7006426386275, 332.7963976038435, 678.5863517896618, 463.6937913825943, 509.17386803164646, 269.52139062994934, 447.14734766084536, 157.26407176161993, 502.2838982329475, 302.46682607697494, 339.94020171816413, 460.4320735709326, 326.7871479137799, 272.9225639267249, 483.09271644564416, 393.912719582038, 421.3844371438924, 471.0698492301301, 550.1365859798938, 216.07887768711274, 559.3663720232468, 469.07137930085685, 490.0528067394413, 362.27641338099147, 85.44103682037615, 70.90276186617778, 332.0103288369142, 393.4786470874674, 475.11333813268806]'"
      ]
     },
     "execution_count": 6,
     "metadata": {},
     "output_type": "execute_result"
    }
   ],
   "source": [
    "df['sample_dist'][0]"
   ]
  },
  {
   "cell_type": "code",
   "execution_count": null,
   "metadata": {},
   "outputs": [],
   "source": [
    "sampledistance = [457.68014299453085, 238.49061656217046, 543.2345470069916, 417.43404195022265, 368.35632279667755, 221.91925938962106, 283.0325737354771, 190.1670814560203, 316.1412807712879, 430.04021573058054, 174.7655466988815, 98.69577779451235, 287.74907399835706, 282.94956281485355, 452.6151121001456, 577.8406159992596, 513.362831731017, 589.3345924698399, 224.32636153809293, 529.8416583146127, 322.6471108382339, 490.7006426386275, 332.7963976038435, 678.5863517896618, 463.6937913825943, 509.17386803164646, 269.52139062994934, 447.14734766084536, 157.26407176161993, 502.2838982329475, 302.46682607697494, 339.94020171816413, 460.4320735709326, 326.7871479137799, 272.9225639267249, 483.09271644564416, 393.912719582038, 421.3844371438924, 471.0698492301301, 550.1365859798938, 216.07887768711274, 559.3663720232468, 469.07137930085685, 490.0528067394413, 362.27641338099147, 85.44103682037615, 70.90276186617778, 332.0103288369142, 393.4786470874674, 475.11333813268806]"
   ]
  },
  {
   "cell_type": "markdown",
   "metadata": {},
   "source": [
    "### In the code below, just change the EDIT ME part"
   ]
  },
  {
   "cell_type": "code",
   "execution_count": null,
   "metadata": {},
   "outputs": [],
   "source": [
    "counter = 0\n",
    "while counter <= 11:\n",
    "    columns1 = ['eventname','loc_type','lat','lon','freeflowspeed','currentspeed','ratio','confidence','CST Time','dist_from_center']\n",
    "    i = 0\n",
    "    dfadd = pd.DataFrame([['ignore this row',\"2\",1.1,1.1,21,21,1,1,1,0]],columns=columns1)\n",
    "\n",
    "    loc_type = \"C\"\n",
    "    venue_name = str(df['venue'][0])\n",
    "    lat = df['venue_lat'][i]\n",
    "    lon = df['venue_lon'][i]\n",
    "    lat,lon,freeFlowSpeed,currentSpeed,ratio,confidence,timeticks = getSpeedAtLoc(str(lat),str(lon))\n",
    "    dfadd.loc[len(dfadd)]= [str(df['title'][i]),loc_type,lat,lon,freeFlowSpeed,currentSpeed,ratio,confidence,time.ctime(int(float((timeticks)))),0]\n",
    "\n",
    "    for j in range(50):\n",
    "        loc_type = \"S\"\n",
    "        lat,lon,freeFlowSpeed,currentSpeed,ratio,confidence,timeticks = getSpeedAtLoc(str(lats[j]),str(lons[j]))\n",
    "        dfadd.loc[len(dfadd)] = [str(df['title']),loc_type,lat,lon,freeFlowSpeed,currentSpeed,ratio,confidence,time.ctime(int(float((timeticks)))),sampledistance[j]]\n",
    "\n",
    "    ######EDIT ME##########\n",
    "    \n",
    "    # In the string belong change the date from March24 to whatever date it is.    \n",
    "    \n",
    "    dfadd.to_csv('March30_' + venue_name + str(time.ctime(int(float((timeticks))))) + '.csv')\n",
    "    if counter == 11:\n",
    "        break\n",
    "    time.sleep(1800)\n",
    "    counter += 1"
   ]
  }
 ],
 "metadata": {
  "kernelspec": {
   "display_name": "Python 3",
   "language": "python",
   "name": "python3"
  },
  "language_info": {
   "codemirror_mode": {
    "name": "ipython",
    "version": 3
   },
   "file_extension": ".py",
   "mimetype": "text/x-python",
   "name": "python",
   "nbconvert_exporter": "python",
   "pygments_lexer": "ipython3",
   "version": "3.6.3"
  }
 },
 "nbformat": 4,
 "nbformat_minor": 2
}
